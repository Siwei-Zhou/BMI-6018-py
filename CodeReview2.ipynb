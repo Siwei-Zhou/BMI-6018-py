{
  "nbformat": 4,
  "nbformat_minor": 0,
  "metadata": {
    "colab": {
      "provenance": []
    },
    "kernelspec": {
      "name": "python3",
      "display_name": "Python 3"
    },
    "language_info": {
      "name": "python"
    }
  },
  "cells": [
    {
      "cell_type": "markdown",
      "source": [
        "Iterated Fuction"
      ],
      "metadata": {
        "id": "ymZz-zCAV3OL"
      }
    },
    {
      "cell_type": "code",
      "source": [
        "for i in [1,2,[3,4,[5,6]]]:\n",
        "    print(i)"
      ],
      "metadata": {
        "colab": {
          "base_uri": "https://localhost:8080/"
        },
        "id": "k94E-Gy4Z4Pd",
        "outputId": "99190e7e-344a-451e-a930-75ada119de7e"
      },
      "execution_count": null,
      "outputs": [
        {
          "output_type": "stream",
          "name": "stdout",
          "text": [
            "1\n",
            "2\n",
            "[3, 4, [5, 6]]\n"
          ]
        }
      ]
    },
    {
      "cell_type": "code",
      "source": [
        "for i in [1,2,[3,4,[5,6]]]:\n",
        "     if isinstance(i,list):\n",
        "         for a in i:\n",
        "             print(a)\n",
        "     else:\n",
        "         print(i)"
      ],
      "metadata": {
        "colab": {
          "base_uri": "https://localhost:8080/"
        },
        "id": "iH3SeQlKZs42",
        "outputId": "39862dba-6271-4994-a243-a223abc04dd5"
      },
      "execution_count": null,
      "outputs": [
        {
          "output_type": "stream",
          "name": "stdout",
          "text": [
            "1\n",
            "2\n",
            "3\n",
            "4\n",
            "[5, 6]\n"
          ]
        }
      ]
    },
    {
      "cell_type": "markdown",
      "source": [
        "Recursive Function"
      ],
      "metadata": {
        "id": "1CAt2VE4V7kJ"
      }
    },
    {
      "cell_type": "code",
      "source": [
        "def MyFunction(nested_list):\n",
        "    new_list = []\n",
        "    for element in nested_list:\n",
        "        if type(element) is list:\n",
        "            new_list+=MyFunction(element)\n",
        "            print(new_list,\"  FIRST\")\n",
        "        else:\n",
        "            new_list+=[element]\n",
        "            print(new_list,\"  SECOND\")\n",
        "    return new_list\n",
        "\n",
        "MyFunction([1,2,[3,4,[5,6]]])"
      ],
      "metadata": {
        "id": "l6KBxgdtV1gO",
        "colab": {
          "base_uri": "https://localhost:8080/"
        },
        "outputId": "02fac14a-f7e6-4bc0-dd2a-fe9f8a9c8d9f"
      },
      "execution_count": 7,
      "outputs": [
        {
          "output_type": "stream",
          "name": "stdout",
          "text": [
            "[1]   SECOND\n",
            "[1, 2]   SECOND\n",
            "[3]   SECOND\n",
            "[3, 4]   SECOND\n",
            "[5]   SECOND\n",
            "[5, 6]   SECOND\n",
            "[3, 4, 5, 6]   FIRST\n",
            "[1, 2, 3, 4, 5, 6]   FIRST\n"
          ]
        },
        {
          "output_type": "execute_result",
          "data": {
            "text/plain": [
              "[1, 2, 3, 4, 5, 6]"
            ]
          },
          "metadata": {},
          "execution_count": 7
        }
      ]
    }
  ]
}